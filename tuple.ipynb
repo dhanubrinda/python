{
  "nbformat": 4,
  "nbformat_minor": 0,
  "metadata": {
    "colab": {
      "provenance": [],
      "authorship_tag": "ABX9TyO3N5GxTDUfOvUOitIOwj80",
      "include_colab_link": true
    },
    "kernelspec": {
      "name": "python3",
      "display_name": "Python 3"
    },
    "language_info": {
      "name": "python"
    }
  },
  "cells": [
    {
      "cell_type": "markdown",
      "metadata": {
        "id": "view-in-github",
        "colab_type": "text"
      },
      "source": [
        "<a href=\"https://colab.research.google.com/github/dhanubrinda/python/blob/basics/tuple.ipynb\" target=\"_parent\"><img src=\"https://colab.research.google.com/assets/colab-badge.svg\" alt=\"Open In Colab\"/></a>"
      ]
    },
    {
      "cell_type": "code",
      "execution_count": null,
      "metadata": {
        "colab": {
          "base_uri": "https://localhost:8080/"
        },
        "id": "YSou-f24kMkk",
        "outputId": "139e79fc-e3ff-4f85-d49e-63e1e3718b76"
      },
      "outputs": [
        {
          "output_type": "stream",
          "name": "stdout",
          "text": [
            "('oranges', 'grapes', 'apples')\n",
            "('oranges', 'grapes', 'apples')\n",
            "('oranges', 'grapes')\n",
            "('oranges', 'grapes', 'apples')\n",
            "('oranges', 'grapes', 'apples', 10, 12)\n"
          ]
        }
      ],
      "source": [
        "tup=(\"oranges\",\"grapes\",\"apples\")\n",
        "print(tup)\n",
        "\n",
        "#tup[0]= \"mango\"#if u change/modify gives error..bc'z tuple object cannot be modified\n",
        "print(tup)\n",
        "\n",
        "print(tup[0:2])\n",
        "print(tup[0:3])\n",
        "\n",
        "tup2=(10,12)\n",
        "tup3=tup+tup2 #concatenate two tuples..\n",
        "print(tup3)\n"
      ]
    },
    {
      "cell_type": "markdown",
      "source": [
        "**Exercises**:"
      ],
      "metadata": {
        "id": "-Nmgy2LfoJNw"
      }
    },
    {
      "cell_type": "markdown",
      "source": [
        "**1. Create a list of names and print the second item**\n"
      ],
      "metadata": {
        "id": "SYUYidVEoVON"
      }
    },
    {
      "cell_type": "code",
      "source": [
        "list=['pavi','anu']\n",
        "print(list)\n",
        "print(list[1])#print the second item"
      ],
      "metadata": {
        "colab": {
          "base_uri": "https://localhost:8080/"
        },
        "id": "cawMRxsBofLI",
        "outputId": "ba137454-c3e7-4e8d-ac53-74942f1fb473"
      },
      "execution_count": null,
      "outputs": [
        {
          "output_type": "stream",
          "name": "stdout",
          "text": [
            "['pavi', 'anu']\n",
            "anu\n"
          ]
        }
      ]
    },
    {
      "cell_type": "markdown",
      "source": [
        "**2.Create a list of sports and then replace the second item with another sport**\n"
      ],
      "metadata": {
        "id": "tpJXqITHo_Dk"
      }
    },
    {
      "cell_type": "code",
      "source": [
        "sports=['hockey','footbal','cricket']\n",
        "sports[0]='tennis'\n",
        "print(sports)"
      ],
      "metadata": {
        "colab": {
          "base_uri": "https://localhost:8080/"
        },
        "id": "6nqBgQQPpUKO",
        "outputId": "fd1e7b73-7a40-47f1-8a2c-fe1a0dc35d5d"
      },
      "execution_count": null,
      "outputs": [
        {
          "output_type": "stream",
          "name": "stdout",
          "text": [
            "['tennis', 'footbal', 'cricket']\n"
          ]
        }
      ]
    },
    {
      "cell_type": "markdown",
      "source": [
        "**3. Create a list containing numbers and delete the fifth number from the array.**"
      ],
      "metadata": {
        "id": "mvHB80Zkp8YG"
      }
    },
    {
      "cell_type": "code",
      "source": [
        "\n",
        "list_num=[5,6,8,4,9,7,2]\n",
        "del list_num[5]\n",
        "print(list_num)"
      ],
      "metadata": {
        "colab": {
          "base_uri": "https://localhost:8080/"
        },
        "id": "tWsu0UqzqEa3",
        "outputId": "1dc2de17-c267-43e5-ce8c-0d8244a2243e"
      },
      "execution_count": null,
      "outputs": [
        {
          "output_type": "stream",
          "name": "stdout",
          "text": [
            "[5, 6, 8, 4, 9, 2]\n"
          ]
        }
      ]
    },
    {
      "cell_type": "markdown",
      "source": [
        "**4. Create two lists of numbers and merge them.**\n",
        "\n"
      ],
      "metadata": {
        "id": "t8fGIScUq9y3"
      }
    },
    {
      "cell_type": "code",
      "source": [
        "list1=[1,5]\n",
        "list2=[2,4]\n",
        "print(list1+list2)"
      ],
      "metadata": {
        "colab": {
          "base_uri": "https://localhost:8080/"
        },
        "id": "rcGeGkserMTI",
        "outputId": "78f7410e-ae59-4729-bc3d-941a9778bfad"
      },
      "execution_count": null,
      "outputs": [
        {
          "output_type": "stream",
          "name": "stdout",
          "text": [
            "[1, 5, 2, 4]\n"
          ]
        }
      ]
    },
    {
      "cell_type": "markdown",
      "source": [
        "**5. Create a list of numbers and find the length, minimum, and maximum.**"
      ],
      "metadata": {
        "id": "C3O1FaHor2sx"
      }
    },
    {
      "cell_type": "code",
      "source": [
        "list=[1,3,7,9,10]\n",
        "print(len(list))\n",
        "print(max(list))\n",
        "print(min(list))"
      ],
      "metadata": {
        "colab": {
          "base_uri": "https://localhost:8080/"
        },
        "id": "1yhYD33Jr5Lf",
        "outputId": "aa0b73e5-0985-4262-a740-2080c71fdd9f"
      },
      "execution_count": null,
      "outputs": [
        {
          "output_type": "stream",
          "name": "stdout",
          "text": [
            "5\n",
            "10\n",
            "1\n"
          ]
        }
      ]
    },
    {
      "cell_type": "markdown",
      "source": [
        "**6. Create a dictionary of students and scores and print out a student’s score.**"
      ],
      "metadata": {
        "id": "RVBVIt0Jsf9H"
      }
    },
    {
      "cell_type": "code",
      "source": [
        "students={'bob':100,'lily':95}\n",
        "print(students)\n",
        "print(students['bob'])\n"
      ],
      "metadata": {
        "colab": {
          "base_uri": "https://localhost:8080/"
        },
        "id": "mJeSoUInsjzi",
        "outputId": "f7a305ac-e92b-4ea8-f9b2-f3a0cf13df5f"
      },
      "execution_count": null,
      "outputs": [
        {
          "output_type": "stream",
          "name": "stdout",
          "text": [
            "{'bob': 100, 'lily': 95}\n",
            "100\n"
          ]
        }
      ]
    },
    {
      "cell_type": "markdown",
      "source": [
        "**7.Create a dictionary with the key being names and values being ages and then delete the second key/value pair.**"
      ],
      "metadata": {
        "id": "xSyI3FXeuDKS"
      }
    },
    {
      "cell_type": "code",
      "source": [
        "students={'bob':10,'lily':25}\n",
        "del students['bob']\n",
        "print(students)"
      ],
      "metadata": {
        "colab": {
          "base_uri": "https://localhost:8080/"
        },
        "id": "l1i3wzwguIgR",
        "outputId": "5224c41a-36b0-4095-e5f2-c4806c86b4ec"
      },
      "execution_count": null,
      "outputs": [
        {
          "output_type": "stream",
          "name": "stdout",
          "text": [
            "{'lily': 25}\n"
          ]
        }
      ]
    },
    {
      "cell_type": "markdown",
      "source": [
        "**8. Create a dictionary of names and ages and then print out all the keys and values**"
      ],
      "metadata": {
        "id": "SeSkZgJRuhy9"
      }
    },
    {
      "cell_type": "code",
      "source": [
        "data = {\"Rachel\": 17, \"Rahul\": 61, \"Anna\": 15}\n",
        "print(data.keys)\n",
        "print(data.values)\n"
      ],
      "metadata": {
        "colab": {
          "base_uri": "https://localhost:8080/"
        },
        "id": "JUzfvHQ6ulXE",
        "outputId": "0ba33516-b408-4cad-a525-776ce26d55ae"
      },
      "execution_count": null,
      "outputs": [
        {
          "output_type": "stream",
          "name": "stdout",
          "text": [
            "<built-in method keys of dict object at 0x7ad98c56ec40>\n",
            "<built-in method values of dict object at 0x7ad98c56ec40>\n",
            "{'Rachel': 17, 'Rahul': 61, 'Anna': 15}\n"
          ]
        }
      ]
    },
    {
      "cell_type": "markdown",
      "source": [
        "**9. Create a tuple of your favorite movies**"
      ],
      "metadata": {
        "id": "r3hgODZbu0ki"
      }
    },
    {
      "cell_type": "code",
      "source": [
        "tup=(\"jodi\",\"kushi\",\"kgf\")\n",
        "print(tup)"
      ],
      "metadata": {
        "colab": {
          "base_uri": "https://localhost:8080/"
        },
        "id": "DiQgGtzOu28u",
        "outputId": "4756d047-39ff-463d-9d6f-3f4543d34c06"
      },
      "execution_count": null,
      "outputs": [
        {
          "output_type": "stream",
          "name": "stdout",
          "text": [
            "('jodi', 'kushi', 'kgf')\n"
          ]
        }
      ]
    },
    {
      "cell_type": "markdown",
      "source": [
        "\n",
        "**10. Create a tuple and print all the items from the first to third index.**"
      ],
      "metadata": {
        "id": "3oG18jB9vR-Y"
      }
    },
    {
      "cell_type": "code",
      "source": [
        "tup=(\"red\",\"yelow\",\"black\",\"blue\")\n",
        "print(tup[0:2])"
      ],
      "metadata": {
        "colab": {
          "base_uri": "https://localhost:8080/"
        },
        "id": "ENnHs65kvVjG",
        "outputId": "2c116e13-997b-44c4-da21-2aaa7e43edfb"
      },
      "execution_count": null,
      "outputs": [
        {
          "output_type": "stream",
          "name": "stdout",
          "text": [
            "('red', 'yelow')\n"
          ]
        }
      ]
    }
  ]
}