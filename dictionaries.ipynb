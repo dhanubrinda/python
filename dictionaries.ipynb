{
  "nbformat": 4,
  "nbformat_minor": 0,
  "metadata": {
    "colab": {
      "provenance": [],
      "authorship_tag": "ABX9TyN6RyHukIXIhwfXZdegjb11",
      "include_colab_link": true
    },
    "kernelspec": {
      "name": "python3",
      "display_name": "Python 3"
    },
    "language_info": {
      "name": "python"
    }
  },
  "cells": [
    {
      "cell_type": "markdown",
      "metadata": {
        "id": "view-in-github",
        "colab_type": "text"
      },
      "source": [
        "<a href=\"https://colab.research.google.com/github/dhanubrinda/python/blob/basics/dictionaries.ipynb\" target=\"_parent\"><img src=\"https://colab.research.google.com/assets/colab-badge.svg\" alt=\"Open In Colab\"/></a>"
      ]
    },
    {
      "cell_type": "code",
      "execution_count": null,
      "metadata": {
        "colab": {
          "base_uri": "https://localhost:8080/"
        },
        "id": "4qPlxAujep7E",
        "outputId": "76df9a03-ed8e-4166-b8b1-5a90c61b0e6a"
      },
      "outputs": [
        {
          "output_type": "stream",
          "name": "stdout",
          "text": [
            "{'dhanu': 20, 'pavi': 15, 'manas': 4}\n",
            "{'dhanu': 30, 'pavi': 15, 'manas': 4}\n",
            "{'dhanu': 20, 'manas': 4}\n",
            "2\n",
            "15\n"
          ]
        }
      ],
      "source": [
        "students={'dhanu':20,'pavi':15,'manas':4}\n",
        "print(students)\n",
        "\n",
        "(students['dhanu'])=30 #to update\n",
        "print(students)\n",
        "\n",
        "students={'dhanu':20,'pavi':15,'manas':4}\n",
        "\n",
        "del students['pavi']# to delete\n",
        "print(students)\n",
        "\n",
        "print (len(students))#length of Dictionary\n",
        "\n",
        "students={'dhanu':20,'dhanu':15,'manas':4} #for same key with different values\n",
        "                                           # prints last vaue\n",
        "print(students['dhanu'])\n"
      ]
    },
    {
      "cell_type": "code",
      "source": [],
      "metadata": {
        "id": "VpttznQ5j1u5"
      },
      "execution_count": null,
      "outputs": []
    },
    {
      "cell_type": "markdown",
      "source": [],
      "metadata": {
        "id": "aVIjMun0gIV3"
      }
    }
  ]
}