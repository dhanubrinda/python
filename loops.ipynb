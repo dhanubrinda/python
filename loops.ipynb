{
  "nbformat": 4,
  "nbformat_minor": 0,
  "metadata": {
    "colab": {
      "provenance": [],
      "authorship_tag": "ABX9TyPO5ACUq+l0I/xyVzm1870h",
      "include_colab_link": true
    },
    "kernelspec": {
      "name": "python3",
      "display_name": "Python 3"
    },
    "language_info": {
      "name": "python"
    }
  },
  "cells": [
    {
      "cell_type": "markdown",
      "metadata": {
        "id": "view-in-github",
        "colab_type": "text"
      },
      "source": [
        "<a href=\"https://colab.research.google.com/github/dhanubrinda/python/blob/basics/loops.ipynb\" target=\"_parent\"><img src=\"https://colab.research.google.com/assets/colab-badge.svg\" alt=\"Open In Colab\"/></a>"
      ]
    },
    {
      "cell_type": "code",
      "execution_count": 2,
      "metadata": {
        "colab": {
          "base_uri": "https://localhost:8080/"
        },
        "id": "1pzeMyD_zZ6m",
        "outputId": "2e3cd366-5e1e-41eb-9abf-d423e270af32"
      },
      "outputs": [
        {
          "output_type": "stream",
          "name": "stdout",
          "text": [
            "oranges\n",
            "apples\n",
            "grapes\n"
          ]
        }
      ],
      "source": [
        "list1=['oranges','apples','grapes']\n",
        "tup1=(1,3,5)\n",
        "for item in list1:\n",
        "      print(item)"
      ]
    },
    {
      "cell_type": "code",
      "source": [
        "list1=['oranges','apples','grapes']\n",
        "tup1=(1,3,5)\n",
        "for item in tup1:\n",
        "      print(item)"
      ],
      "metadata": {
        "colab": {
          "base_uri": "https://localhost:8080/"
        },
        "id": "SWBj1IEy3Jkl",
        "outputId": "fca2810a-cb40-424a-9e3e-b49f846c9fa7"
      },
      "execution_count": 3,
      "outputs": [
        {
          "output_type": "stream",
          "name": "stdout",
          "text": [
            "1\n",
            "3\n",
            "5\n"
          ]
        }
      ]
    },
    {
      "cell_type": "code",
      "source": [
        "# range function\n",
        "for i in range(0,100,20):\n",
        "      print(i)"
      ],
      "metadata": {
        "colab": {
          "base_uri": "https://localhost:8080/"
        },
        "id": "ZCOwbtT_3uM-",
        "outputId": "399df7ee-a566-4a04-d394-1060a2726b5b"
      },
      "execution_count": 14,
      "outputs": [
        {
          "output_type": "stream",
          "name": "stdout",
          "text": [
            "0\n",
            "20\n",
            "40\n",
            "60\n",
            "80\n"
          ]
        }
      ]
    },
    {
      "cell_type": "code",
      "source": [
        "for i in range(0,3):\n",
        "  for j in range(0,4):\n",
        "      print(i*j)"
      ],
      "metadata": {
        "colab": {
          "base_uri": "https://localhost:8080/"
        },
        "id": "FHaGDXCL5uGv",
        "outputId": "6508f04e-101c-48ae-8178-6634c6806ff7"
      },
      "execution_count": 18,
      "outputs": [
        {
          "output_type": "stream",
          "name": "stdout",
          "text": [
            "0\n",
            "0\n",
            "0\n",
            "0\n",
            "0\n",
            "1\n",
            "2\n",
            "3\n",
            "0\n",
            "2\n",
            "4\n",
            "6\n"
          ]
        }
      ]
    }
  ]
}