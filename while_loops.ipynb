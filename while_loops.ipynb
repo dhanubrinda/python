{
  "nbformat": 4,
  "nbformat_minor": 0,
  "metadata": {
    "colab": {
      "provenance": [],
      "authorship_tag": "ABX9TyM6hlqAlv4PvKwORYHFB3Uz",
      "include_colab_link": true
    },
    "kernelspec": {
      "name": "python3",
      "display_name": "Python 3"
    },
    "language_info": {
      "name": "python"
    }
  },
  "cells": [
    {
      "cell_type": "markdown",
      "metadata": {
        "id": "view-in-github",
        "colab_type": "text"
      },
      "source": [
        "<a href=\"https://colab.research.google.com/github/dhanubrinda/python/blob/try%26except/while_loops.ipynb\" target=\"_parent\"><img src=\"https://colab.research.google.com/assets/colab-badge.svg\" alt=\"Open In Colab\"/></a>"
      ]
    },
    {
      "cell_type": "markdown",
      "source": [
        "WHILE LOOPS"
      ],
      "metadata": {
        "id": "s-5w6sKQ6HR3"
      }
    },
    {
      "cell_type": "code",
      "execution_count": 2,
      "metadata": {
        "colab": {
          "base_uri": "https://localhost:8080/"
        },
        "id": "mx365XNv4ydj",
        "outputId": "2a59467b-3a9f-4501-f8a9-484cb8d8ca66"
      },
      "outputs": [
        {
          "output_type": "stream",
          "name": "stdout",
          "text": [
            "1\n",
            "2\n",
            "3\n",
            "4\n",
            "5\n"
          ]
        }
      ],
      "source": [
        "c=0\n",
        "while c<5:\n",
        "     c=c+1\n",
        "     print(c)"
      ]
    },
    {
      "cell_type": "markdown",
      "source": [
        "**Using control statements(break,continue,pass)**"
      ],
      "metadata": {
        "id": "hGGISwnD56U9"
      }
    },
    {
      "cell_type": "code",
      "source": [
        "c=0\n",
        "while c<5:\n",
        "     c=c+1\n",
        "     if c==3:\n",
        "        break\n",
        "     print(c)"
      ],
      "metadata": {
        "colab": {
          "base_uri": "https://localhost:8080/"
        },
        "id": "rGVRcLBZ50i4",
        "outputId": "e3049985-4e1a-451d-fca9-41c437128fa3"
      },
      "execution_count": 4,
      "outputs": [
        {
          "output_type": "stream",
          "name": "stdout",
          "text": [
            "1\n",
            "2\n"
          ]
        }
      ]
    },
    {
      "cell_type": "code",
      "source": [
        "c=0\n",
        "while c<5:\n",
        "     c=c+1\n",
        "     if c==3:\n",
        "        continue\n",
        "     print(c)"
      ],
      "metadata": {
        "colab": {
          "base_uri": "https://localhost:8080/"
        },
        "id": "0Ub64Kxa65da",
        "outputId": "ba971ff9-f50e-4c11-e917-b1e7b1a233ab"
      },
      "execution_count": 5,
      "outputs": [
        {
          "output_type": "stream",
          "name": "stdout",
          "text": [
            "1\n",
            "2\n",
            "4\n",
            "5\n"
          ]
        }
      ]
    },
    {
      "cell_type": "code",
      "source": [
        "c=0\n",
        "while c<5:\n",
        "     c=c+1\n",
        "     if c==3:\n",
        "        pass\n",
        "     print(c)"
      ],
      "metadata": {
        "colab": {
          "base_uri": "https://localhost:8080/"
        },
        "id": "2gCfK92t8O2J",
        "outputId": "5418f8e9-28db-422e-b07c-8ca81cd83a95"
      },
      "execution_count": 6,
      "outputs": [
        {
          "output_type": "stream",
          "name": "stdout",
          "text": [
            "1\n",
            "2\n",
            "3\n",
            "4\n",
            "5\n"
          ]
        }
      ]
    },
    {
      "cell_type": "markdown",
      "source": [
        "**try and except**"
      ],
      "metadata": {
        "id": "mtdUmsWD_Vg2"
      }
    },
    {
      "cell_type": "code",
      "source": [
        "try:\n",
        "\n",
        "    if name >3:\n",
        "      print(\"hello\")\n",
        "except:\n",
        "       print(\"An eror was detected\")"
      ],
      "metadata": {
        "colab": {
          "base_uri": "https://localhost:8080/"
        },
        "id": "49u09q02_U7Q",
        "outputId": "30b806c8-55bc-4540-f4af-c1c88bb7fd60"
      },
      "execution_count": 14,
      "outputs": [
        {
          "output_type": "stream",
          "name": "stdout",
          "text": [
            "hello\n"
          ]
        }
      ]
    },
    {
      "cell_type": "code",
      "source": [],
      "metadata": {
        "id": "ztG_v1RZAnc1"
      },
      "execution_count": null,
      "outputs": []
    }
  ]
}